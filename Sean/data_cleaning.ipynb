{
 "cells": [
  {
   "cell_type": "code",
   "execution_count": 1,
   "metadata": {},
   "outputs": [],
   "source": [
    "import pandas as pd\n",
    "\n",
    "#Load the CSV file from the Resources folder\n",
    "file_path = 'Resources/Sleep_health_and_lifestyle_dataset.csv'  # Replace with your actual file name\n",
    "df = pd.read_csv(file_path)\n",
    "\n",
    "# Step 2: Modify the 'BMI Category' column\n",
    "df['BMI Category'] = df['BMI Category'].replace('Normal Weight', 'Normal')\n",
    "\n",
    "# Step 3: Export the modified DataFrame to a new CSV file\n",
    "output_path = 'Resources/cleaned_Sleep_health_and_lifestyle_dataset.csv'  # Specify output path\n",
    "df.to_csv(output_path, index=False)"
   ]
  }
 ],
 "metadata": {
  "kernelspec": {
   "display_name": "base",
   "language": "python",
   "name": "python3"
  },
  "language_info": {
   "codemirror_mode": {
    "name": "ipython",
    "version": 3
   },
   "file_extension": ".py",
   "mimetype": "text/x-python",
   "name": "python",
   "nbconvert_exporter": "python",
   "pygments_lexer": "ipython3",
   "version": "3.11.7"
  }
 },
 "nbformat": 4,
 "nbformat_minor": 2
}
